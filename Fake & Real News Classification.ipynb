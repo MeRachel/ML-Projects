{
 "cells": [
  {
   "cell_type": "code",
   "execution_count": 1,
   "id": "758fdadd",
   "metadata": {},
   "outputs": [],
   "source": [
    "import pandas as pd\n",
    "import numpy as np\n",
    "import seaborn as sns\n",
    "import matplotlib.pyplot as plt\n",
    "%matplotlib inline\n",
    "import warnings\n",
    "warnings.filterwarnings('ignore')"
   ]
  },
  {
   "cell_type": "code",
   "execution_count": 2,
   "id": "8705c101",
   "metadata": {},
   "outputs": [
    {
     "data": {
      "text/html": [
       "<div>\n",
       "<style scoped>\n",
       "    .dataframe tbody tr th:only-of-type {\n",
       "        vertical-align: middle;\n",
       "    }\n",
       "\n",
       "    .dataframe tbody tr th {\n",
       "        vertical-align: top;\n",
       "    }\n",
       "\n",
       "    .dataframe thead th {\n",
       "        text-align: right;\n",
       "    }\n",
       "</style>\n",
       "<table border=\"1\" class=\"dataframe\">\n",
       "  <thead>\n",
       "    <tr style=\"text-align: right;\">\n",
       "      <th></th>\n",
       "      <th>title</th>\n",
       "      <th>text</th>\n",
       "      <th>subject</th>\n",
       "      <th>date</th>\n",
       "    </tr>\n",
       "  </thead>\n",
       "  <tbody>\n",
       "    <tr>\n",
       "      <th>0</th>\n",
       "      <td>As U.S. budget fight looms, Republicans flip t...</td>\n",
       "      <td>WASHINGTON (Reuters) - The head of a conservat...</td>\n",
       "      <td>politicsNews</td>\n",
       "      <td>December 31, 2017</td>\n",
       "    </tr>\n",
       "    <tr>\n",
       "      <th>1</th>\n",
       "      <td>U.S. military to accept transgender recruits o...</td>\n",
       "      <td>WASHINGTON (Reuters) - Transgender people will...</td>\n",
       "      <td>politicsNews</td>\n",
       "      <td>December 29, 2017</td>\n",
       "    </tr>\n",
       "    <tr>\n",
       "      <th>2</th>\n",
       "      <td>Senior U.S. Republican senator: 'Let Mr. Muell...</td>\n",
       "      <td>WASHINGTON (Reuters) - The special counsel inv...</td>\n",
       "      <td>politicsNews</td>\n",
       "      <td>December 31, 2017</td>\n",
       "    </tr>\n",
       "    <tr>\n",
       "      <th>3</th>\n",
       "      <td>FBI Russia probe helped by Australian diplomat...</td>\n",
       "      <td>WASHINGTON (Reuters) - Trump campaign adviser ...</td>\n",
       "      <td>politicsNews</td>\n",
       "      <td>December 30, 2017</td>\n",
       "    </tr>\n",
       "    <tr>\n",
       "      <th>4</th>\n",
       "      <td>Trump wants Postal Service to charge 'much mor...</td>\n",
       "      <td>SEATTLE/WASHINGTON (Reuters) - President Donal...</td>\n",
       "      <td>politicsNews</td>\n",
       "      <td>December 29, 2017</td>\n",
       "    </tr>\n",
       "  </tbody>\n",
       "</table>\n",
       "</div>"
      ],
      "text/plain": [
       "                                               title  \\\n",
       "0  As U.S. budget fight looms, Republicans flip t...   \n",
       "1  U.S. military to accept transgender recruits o...   \n",
       "2  Senior U.S. Republican senator: 'Let Mr. Muell...   \n",
       "3  FBI Russia probe helped by Australian diplomat...   \n",
       "4  Trump wants Postal Service to charge 'much mor...   \n",
       "\n",
       "                                                text       subject  \\\n",
       "0  WASHINGTON (Reuters) - The head of a conservat...  politicsNews   \n",
       "1  WASHINGTON (Reuters) - Transgender people will...  politicsNews   \n",
       "2  WASHINGTON (Reuters) - The special counsel inv...  politicsNews   \n",
       "3  WASHINGTON (Reuters) - Trump campaign adviser ...  politicsNews   \n",
       "4  SEATTLE/WASHINGTON (Reuters) - President Donal...  politicsNews   \n",
       "\n",
       "                 date  \n",
       "0  December 31, 2017   \n",
       "1  December 29, 2017   \n",
       "2  December 31, 2017   \n",
       "3  December 30, 2017   \n",
       "4  December 29, 2017   "
      ]
     },
     "execution_count": 2,
     "metadata": {},
     "output_type": "execute_result"
    }
   ],
   "source": [
    "true=pd.read_csv('True.csv')\n",
    "true.head()"
   ]
  },
  {
   "cell_type": "code",
   "execution_count": 3,
   "id": "13a8b590",
   "metadata": {},
   "outputs": [
    {
     "data": {
      "text/plain": [
       "array(['politicsNews', 'worldnews'], dtype=object)"
      ]
     },
     "execution_count": 3,
     "metadata": {},
     "output_type": "execute_result"
    }
   ],
   "source": [
    "true['subject'].unique()"
   ]
  },
  {
   "cell_type": "code",
   "execution_count": 4,
   "id": "081f881d",
   "metadata": {},
   "outputs": [
    {
     "name": "stdout",
     "output_type": "stream",
     "text": [
      "<class 'pandas.core.frame.DataFrame'>\n",
      "RangeIndex: 21417 entries, 0 to 21416\n",
      "Data columns (total 4 columns):\n",
      " #   Column   Non-Null Count  Dtype \n",
      "---  ------   --------------  ----- \n",
      " 0   title    21417 non-null  object\n",
      " 1   text     21417 non-null  object\n",
      " 2   subject  21417 non-null  object\n",
      " 3   date     21417 non-null  object\n",
      "dtypes: object(4)\n",
      "memory usage: 669.4+ KB\n"
     ]
    }
   ],
   "source": [
    "true.info()"
   ]
  },
  {
   "cell_type": "code",
   "execution_count": 5,
   "id": "07df133a",
   "metadata": {},
   "outputs": [
    {
     "data": {
      "text/plain": [
       "title      0\n",
       "text       0\n",
       "subject    0\n",
       "date       0\n",
       "dtype: int64"
      ]
     },
     "execution_count": 5,
     "metadata": {},
     "output_type": "execute_result"
    }
   ],
   "source": [
    "true.isnull().sum()"
   ]
  },
  {
   "cell_type": "code",
   "execution_count": 6,
   "id": "062a9505",
   "metadata": {},
   "outputs": [],
   "source": [
    "true['Prediction']=np.ones(true.shape[0])"
   ]
  },
  {
   "cell_type": "code",
   "execution_count": 7,
   "id": "7cede672",
   "metadata": {},
   "outputs": [
    {
     "data": {
      "text/html": [
       "<div>\n",
       "<style scoped>\n",
       "    .dataframe tbody tr th:only-of-type {\n",
       "        vertical-align: middle;\n",
       "    }\n",
       "\n",
       "    .dataframe tbody tr th {\n",
       "        vertical-align: top;\n",
       "    }\n",
       "\n",
       "    .dataframe thead th {\n",
       "        text-align: right;\n",
       "    }\n",
       "</style>\n",
       "<table border=\"1\" class=\"dataframe\">\n",
       "  <thead>\n",
       "    <tr style=\"text-align: right;\">\n",
       "      <th></th>\n",
       "      <th>title</th>\n",
       "      <th>text</th>\n",
       "      <th>subject</th>\n",
       "      <th>date</th>\n",
       "    </tr>\n",
       "  </thead>\n",
       "  <tbody>\n",
       "    <tr>\n",
       "      <th>0</th>\n",
       "      <td>Donald Trump Sends Out Embarrassing New Year’...</td>\n",
       "      <td>Donald Trump just couldn t wish all Americans ...</td>\n",
       "      <td>News</td>\n",
       "      <td>December 31, 2017</td>\n",
       "    </tr>\n",
       "    <tr>\n",
       "      <th>1</th>\n",
       "      <td>Drunk Bragging Trump Staffer Started Russian ...</td>\n",
       "      <td>House Intelligence Committee Chairman Devin Nu...</td>\n",
       "      <td>News</td>\n",
       "      <td>December 31, 2017</td>\n",
       "    </tr>\n",
       "    <tr>\n",
       "      <th>2</th>\n",
       "      <td>Sheriff David Clarke Becomes An Internet Joke...</td>\n",
       "      <td>On Friday, it was revealed that former Milwauk...</td>\n",
       "      <td>News</td>\n",
       "      <td>December 30, 2017</td>\n",
       "    </tr>\n",
       "    <tr>\n",
       "      <th>3</th>\n",
       "      <td>Trump Is So Obsessed He Even Has Obama’s Name...</td>\n",
       "      <td>On Christmas day, Donald Trump announced that ...</td>\n",
       "      <td>News</td>\n",
       "      <td>December 29, 2017</td>\n",
       "    </tr>\n",
       "    <tr>\n",
       "      <th>4</th>\n",
       "      <td>Pope Francis Just Called Out Donald Trump Dur...</td>\n",
       "      <td>Pope Francis used his annual Christmas Day mes...</td>\n",
       "      <td>News</td>\n",
       "      <td>December 25, 2017</td>\n",
       "    </tr>\n",
       "  </tbody>\n",
       "</table>\n",
       "</div>"
      ],
      "text/plain": [
       "                                               title  \\\n",
       "0   Donald Trump Sends Out Embarrassing New Year’...   \n",
       "1   Drunk Bragging Trump Staffer Started Russian ...   \n",
       "2   Sheriff David Clarke Becomes An Internet Joke...   \n",
       "3   Trump Is So Obsessed He Even Has Obama’s Name...   \n",
       "4   Pope Francis Just Called Out Donald Trump Dur...   \n",
       "\n",
       "                                                text subject  \\\n",
       "0  Donald Trump just couldn t wish all Americans ...    News   \n",
       "1  House Intelligence Committee Chairman Devin Nu...    News   \n",
       "2  On Friday, it was revealed that former Milwauk...    News   \n",
       "3  On Christmas day, Donald Trump announced that ...    News   \n",
       "4  Pope Francis used his annual Christmas Day mes...    News   \n",
       "\n",
       "                date  \n",
       "0  December 31, 2017  \n",
       "1  December 31, 2017  \n",
       "2  December 30, 2017  \n",
       "3  December 29, 2017  \n",
       "4  December 25, 2017  "
      ]
     },
     "execution_count": 7,
     "metadata": {},
     "output_type": "execute_result"
    }
   ],
   "source": [
    "fake=pd.read_csv('Fake.csv')\n",
    "fake.head()"
   ]
  },
  {
   "cell_type": "code",
   "execution_count": 8,
   "id": "c83b6802",
   "metadata": {},
   "outputs": [
    {
     "data": {
      "text/plain": [
       "array(['News', 'politics', 'Government News', 'left-news', 'US_News',\n",
       "       'Middle-east'], dtype=object)"
      ]
     },
     "execution_count": 8,
     "metadata": {},
     "output_type": "execute_result"
    }
   ],
   "source": [
    "fake['subject'].unique()"
   ]
  },
  {
   "cell_type": "code",
   "execution_count": 9,
   "id": "00d4dbcd",
   "metadata": {},
   "outputs": [
    {
     "name": "stdout",
     "output_type": "stream",
     "text": [
      "<class 'pandas.core.frame.DataFrame'>\n",
      "RangeIndex: 23481 entries, 0 to 23480\n",
      "Data columns (total 4 columns):\n",
      " #   Column   Non-Null Count  Dtype \n",
      "---  ------   --------------  ----- \n",
      " 0   title    23481 non-null  object\n",
      " 1   text     23481 non-null  object\n",
      " 2   subject  23481 non-null  object\n",
      " 3   date     23481 non-null  object\n",
      "dtypes: object(4)\n",
      "memory usage: 733.9+ KB\n"
     ]
    }
   ],
   "source": [
    "fake.info()"
   ]
  },
  {
   "cell_type": "code",
   "execution_count": 10,
   "id": "2e75c4cf",
   "metadata": {},
   "outputs": [
    {
     "data": {
      "text/plain": [
       "title      0\n",
       "text       0\n",
       "subject    0\n",
       "date       0\n",
       "dtype: int64"
      ]
     },
     "execution_count": 10,
     "metadata": {},
     "output_type": "execute_result"
    }
   ],
   "source": [
    "fake.isnull().sum()"
   ]
  },
  {
   "cell_type": "code",
   "execution_count": 11,
   "id": "012a5bc9",
   "metadata": {},
   "outputs": [],
   "source": [
    "fake['Prediction']=np.zeros(fake.shape[0])"
   ]
  },
  {
   "cell_type": "code",
   "execution_count": 12,
   "id": "f76bf9c8",
   "metadata": {},
   "outputs": [],
   "source": [
    "data=pd.concat([true,fake])"
   ]
  },
  {
   "cell_type": "markdown",
   "id": "ba7916b0",
   "metadata": {},
   "source": [
    "###### Note: Created a dataframe with 'Predicion' as a new column with 1 or 0 as its value for Real or Fake news respectively."
   ]
  },
  {
   "cell_type": "code",
   "execution_count": 13,
   "id": "dde2dd5f",
   "metadata": {},
   "outputs": [
    {
     "data": {
      "text/html": [
       "<div>\n",
       "<style scoped>\n",
       "    .dataframe tbody tr th:only-of-type {\n",
       "        vertical-align: middle;\n",
       "    }\n",
       "\n",
       "    .dataframe tbody tr th {\n",
       "        vertical-align: top;\n",
       "    }\n",
       "\n",
       "    .dataframe thead th {\n",
       "        text-align: right;\n",
       "    }\n",
       "</style>\n",
       "<table border=\"1\" class=\"dataframe\">\n",
       "  <thead>\n",
       "    <tr style=\"text-align: right;\">\n",
       "      <th></th>\n",
       "      <th>title</th>\n",
       "      <th>text</th>\n",
       "      <th>subject</th>\n",
       "      <th>date</th>\n",
       "      <th>Prediction</th>\n",
       "    </tr>\n",
       "  </thead>\n",
       "  <tbody>\n",
       "    <tr>\n",
       "      <th>0</th>\n",
       "      <td>As U.S. budget fight looms, Republicans flip t...</td>\n",
       "      <td>WASHINGTON (Reuters) - The head of a conservat...</td>\n",
       "      <td>politicsNews</td>\n",
       "      <td>December 31, 2017</td>\n",
       "      <td>1.0</td>\n",
       "    </tr>\n",
       "    <tr>\n",
       "      <th>1</th>\n",
       "      <td>U.S. military to accept transgender recruits o...</td>\n",
       "      <td>WASHINGTON (Reuters) - Transgender people will...</td>\n",
       "      <td>politicsNews</td>\n",
       "      <td>December 29, 2017</td>\n",
       "      <td>1.0</td>\n",
       "    </tr>\n",
       "    <tr>\n",
       "      <th>2</th>\n",
       "      <td>Senior U.S. Republican senator: 'Let Mr. Muell...</td>\n",
       "      <td>WASHINGTON (Reuters) - The special counsel inv...</td>\n",
       "      <td>politicsNews</td>\n",
       "      <td>December 31, 2017</td>\n",
       "      <td>1.0</td>\n",
       "    </tr>\n",
       "    <tr>\n",
       "      <th>3</th>\n",
       "      <td>FBI Russia probe helped by Australian diplomat...</td>\n",
       "      <td>WASHINGTON (Reuters) - Trump campaign adviser ...</td>\n",
       "      <td>politicsNews</td>\n",
       "      <td>December 30, 2017</td>\n",
       "      <td>1.0</td>\n",
       "    </tr>\n",
       "    <tr>\n",
       "      <th>4</th>\n",
       "      <td>Trump wants Postal Service to charge 'much mor...</td>\n",
       "      <td>SEATTLE/WASHINGTON (Reuters) - President Donal...</td>\n",
       "      <td>politicsNews</td>\n",
       "      <td>December 29, 2017</td>\n",
       "      <td>1.0</td>\n",
       "    </tr>\n",
       "  </tbody>\n",
       "</table>\n",
       "</div>"
      ],
      "text/plain": [
       "                                               title  \\\n",
       "0  As U.S. budget fight looms, Republicans flip t...   \n",
       "1  U.S. military to accept transgender recruits o...   \n",
       "2  Senior U.S. Republican senator: 'Let Mr. Muell...   \n",
       "3  FBI Russia probe helped by Australian diplomat...   \n",
       "4  Trump wants Postal Service to charge 'much mor...   \n",
       "\n",
       "                                                text       subject  \\\n",
       "0  WASHINGTON (Reuters) - The head of a conservat...  politicsNews   \n",
       "1  WASHINGTON (Reuters) - Transgender people will...  politicsNews   \n",
       "2  WASHINGTON (Reuters) - The special counsel inv...  politicsNews   \n",
       "3  WASHINGTON (Reuters) - Trump campaign adviser ...  politicsNews   \n",
       "4  SEATTLE/WASHINGTON (Reuters) - President Donal...  politicsNews   \n",
       "\n",
       "                 date  Prediction  \n",
       "0  December 31, 2017          1.0  \n",
       "1  December 29, 2017          1.0  \n",
       "2  December 31, 2017          1.0  \n",
       "3  December 30, 2017          1.0  \n",
       "4  December 29, 2017          1.0  "
      ]
     },
     "execution_count": 13,
     "metadata": {},
     "output_type": "execute_result"
    }
   ],
   "source": [
    "data.head()"
   ]
  },
  {
   "cell_type": "code",
   "execution_count": 14,
   "id": "1f90025f",
   "metadata": {},
   "outputs": [
    {
     "data": {
      "text/plain": [
       "(44898, 5)"
      ]
     },
     "execution_count": 14,
     "metadata": {},
     "output_type": "execute_result"
    }
   ],
   "source": [
    "data.shape"
   ]
  },
  {
   "cell_type": "code",
   "execution_count": 15,
   "id": "986912f0",
   "metadata": {
    "scrolled": true
   },
   "outputs": [
    {
     "data": {
      "text/plain": [
       "<AxesSubplot:xlabel='Prediction', ylabel='count'>"
      ]
     },
     "execution_count": 15,
     "metadata": {},
     "output_type": "execute_result"
    },
    {
     "data": {
      "image/png": "[encoded data removed]",
      "text/plain": [
       "<Figure size 432x288 with 1 Axes>"
      ]
     },
     "metadata": {
      "needs_background": "light"
     },
     "output_type": "display_data"
    }
   ],
   "source": [
    "sns.countplot(data['Prediction'])"
   ]
  },
  {
   "cell_type": "markdown",
   "id": "c6da721f",
   "metadata": {},
   "source": [
    "######  Feature Extraction"
   ]
  },
  {
   "cell_type": "code",
   "execution_count": 16,
   "id": "80cc427f",
   "metadata": {},
   "outputs": [],
   "source": [
    "data['Details']=data['title']+' '+data['text']+' '+data['subject']"
   ]
  },
  {
   "cell_type": "code",
   "execution_count": 17,
   "id": "cfb4849b",
   "metadata": {},
   "outputs": [],
   "source": [
    "data.drop(['title','text','subject'],axis=1,inplace=True)"
   ]
  },
  {
   "cell_type": "code",
   "execution_count": 18,
   "id": "43c5e8bc",
   "metadata": {},
   "outputs": [
    {
     "data": {
      "text/html": [
       "<div>\n",
       "<style scoped>\n",
       "    .dataframe tbody tr th:only-of-type {\n",
       "        vertical-align: middle;\n",
       "    }\n",
       "\n",
       "    .dataframe tbody tr th {\n",
       "        vertical-align: top;\n",
       "    }\n",
       "\n",
       "    .dataframe thead th {\n",
       "        text-align: right;\n",
       "    }\n",
       "</style>\n",
       "<table border=\"1\" class=\"dataframe\">\n",
       "  <thead>\n",
       "    <tr style=\"text-align: right;\">\n",
       "      <th></th>\n",
       "      <th>date</th>\n",
       "      <th>Prediction</th>\n",
       "      <th>Details</th>\n",
       "    </tr>\n",
       "  </thead>\n",
       "  <tbody>\n",
       "    <tr>\n",
       "      <th>0</th>\n",
       "      <td>December 31, 2017</td>\n",
       "      <td>1.0</td>\n",
       "      <td>As U.S. budget fight looms, Republicans flip t...</td>\n",
       "    </tr>\n",
       "    <tr>\n",
       "      <th>1</th>\n",
       "      <td>December 29, 2017</td>\n",
       "      <td>1.0</td>\n",
       "      <td>U.S. military to accept transgender recruits o...</td>\n",
       "    </tr>\n",
       "    <tr>\n",
       "      <th>2</th>\n",
       "      <td>December 31, 2017</td>\n",
       "      <td>1.0</td>\n",
       "      <td>Senior U.S. Republican senator: 'Let Mr. Muell...</td>\n",
       "    </tr>\n",
       "    <tr>\n",
       "      <th>3</th>\n",
       "      <td>December 30, 2017</td>\n",
       "      <td>1.0</td>\n",
       "      <td>FBI Russia probe helped by Australian diplomat...</td>\n",
       "    </tr>\n",
       "    <tr>\n",
       "      <th>4</th>\n",
       "      <td>December 29, 2017</td>\n",
       "      <td>1.0</td>\n",
       "      <td>Trump wants Postal Service to charge 'much mor...</td>\n",
       "    </tr>\n",
       "  </tbody>\n",
       "</table>\n",
       "</div>"
      ],
      "text/plain": [
       "                 date  Prediction  \\\n",
       "0  December 31, 2017          1.0   \n",
       "1  December 29, 2017          1.0   \n",
       "2  December 31, 2017          1.0   \n",
       "3  December 30, 2017          1.0   \n",
       "4  December 29, 2017          1.0   \n",
       "\n",
       "                                             Details  \n",
       "0  As U.S. budget fight looms, Republicans flip t...  \n",
       "1  U.S. military to accept transgender recruits o...  \n",
       "2  Senior U.S. Republican senator: 'Let Mr. Muell...  \n",
       "3  FBI Russia probe helped by Australian diplomat...  \n",
       "4  Trump wants Postal Service to charge 'much mor...  "
      ]
     },
     "execution_count": 18,
     "metadata": {},
     "output_type": "execute_result"
    }
   ],
   "source": [
    "data.head()"
   ]
  },
  {
   "cell_type": "code",
   "execution_count": 19,
   "id": "571c0c34",
   "metadata": {},
   "outputs": [],
   "source": [
    "from sklearn.feature_extraction.text import CountVectorizer, TfidfTransformer"
   ]
  },
  {
   "cell_type": "code",
   "execution_count": 20,
   "id": "c45afcca",
   "metadata": {},
   "outputs": [],
   "source": [
    "cv=CountVectorizer(stop_words='english')"
   ]
  },
  {
   "cell_type": "code",
   "execution_count": 21,
   "id": "5a56fec4",
   "metadata": {},
   "outputs": [],
   "source": [
    "words=cv.fit_transform(data['Details'])"
   ]
  },
  {
   "cell_type": "code",
   "execution_count": 22,
   "id": "72c9f6e8",
   "metadata": {},
   "outputs": [
    {
     "data": {
      "text/plain": [
       "{'budget': 21299,\n",
       " 'fight': 42283,\n",
       " 'looms': 66465,\n",
       " 'republicans': 92124,\n",
       " 'flip': 43015,\n",
       " 'fiscal': 42621,\n",
       " 'script': 97249,\n",
       " 'washington': 117060,\n",
       " 'reuters': 92688,\n",
       " 'head': 50522,\n",
       " 'conservative': 28184,\n",
       " 'republican': 92120,\n",
       " 'faction': 40890,\n",
       " 'congress': 28044,\n",
       " 'voted': 116244,\n",
       " 'month': 73293,\n",
       " 'huge': 53049,\n",
       " 'expansion': 40334,\n",
       " 'national': 75527,\n",
       " 'debt': 31837,\n",
       " 'pay': 82688,\n",
       " 'tax': 107012,\n",
       " 'cuts': 30554,\n",
       " 'called': 22402,\n",
       " 'sunday': 105124,\n",
       " 'urged': 114210,\n",
       " 'restraint': 92469,\n",
       " '2018': 4162,\n",
       " 'keeping': 60715,\n",
       " 'sharp': 98777,\n",
       " 'pivot': 84555,\n",
       " 'way': 117250,\n",
       " 'representative': 92053,\n",
       " 'mark': 68935,\n",
       " 'meadows': 70334,\n",
       " 'speaking': 102303,\n",
       " 'cbs': 23739,\n",
       " 'face': 40808,\n",
       " 'nation': 75526,\n",
       " 'drew': 36050,\n",
       " 'hard': 49919,\n",
       " 'line': 65651,\n",
       " 'federal': 41747,\n",
       " 'spending': 102430,\n",
       " 'lawmakers': 64217,\n",
       " 'bracing': 20177,\n",
       " 'battle': 16541,\n",
       " 'january': 57748,\n",
       " 'return': 92655,\n",
       " 'holidays': 52193,\n",
       " 'wednesday': 117492,\n",
       " 'begin': 17056,\n",
       " 'trying': 111292,\n",
       " 'pass': 82337,\n",
       " 'likely': 65525,\n",
       " 'linked': 65698,\n",
       " 'issues': 57025,\n",
       " 'immigration': 54409,\n",
       " 'policy': 85234,\n",
       " 'november': 78145,\n",
       " 'congressional': 28050,\n",
       " 'election': 37797,\n",
       " 'campaigns': 22575,\n",
       " 'approach': 12973,\n",
       " 'seek': 97639,\n",
       " 'control': 28526,\n",
       " 'president': 86515,\n",
       " 'donald': 35397,\n",
       " 'trump': 110992,\n",
       " 'want': 116880,\n",
       " 'big': 18053,\n",
       " 'increase': 54986,\n",
       " 'military': 71807,\n",
       " 'democrats': 32657,\n",
       " 'proportional': 87270,\n",
       " 'increases': 54988,\n",
       " 'non': 77671,\n",
       " 'defense': 32192,\n",
       " 'discretionary': 34369,\n",
       " 'programs': 87074,\n",
       " 'support': 105330,\n",
       " 'education': 37398,\n",
       " 'scientific': 96987,\n",
       " 'research': 92219,\n",
       " 'infrastructure': 55456,\n",
       " 'public': 87703,\n",
       " 'health': 50595,\n",
       " 'environmental': 38961,\n",
       " 'protection': 87374,\n",
       " 'administration': 9500,\n",
       " 'willing': 118465,\n",
       " 'say': 96386,\n",
       " 'going': 47155,\n",
       " 'percent': 83281,\n",
       " 'chairman': 24324,\n",
       " 'small': 101048,\n",
       " 'influential': 55403,\n",
       " 'house': 52751,\n",
       " 'freedom': 44180,\n",
       " 'caucus': 23609,\n",
       " 'said': 95441,\n",
       " 'program': 87060,\n",
       " 'saying': 96408,\n",
       " 'need': 75953,\n",
       " 'government': 47570,\n",
       " 'raise': 89404,\n",
       " '10': 563,\n",
       " '11': 720,\n",
       " 'don': 35388,\n",
       " 'rationale': 89861,\n",
       " 'eventually': 39908,\n",
       " 'run': 94808,\n",
       " 'people': 83232,\n",
       " 'money': 73127,\n",
       " 'late': 63994,\n",
       " 'december': 31898,\n",
       " 'party': 82293,\n",
       " 'financed': 42416,\n",
       " 'overhaul': 81031,\n",
       " 'expected': 40355,\n",
       " 'balloon': 15725,\n",
       " 'deficit': 32222,\n",
       " 'add': 9331,\n",
       " 'trillion': 110729,\n",
       " 'years': 120503,\n",
       " '20': 1776,\n",
       " 'interesting': 56108,\n",
       " 'hear': 50615,\n",
       " 'talk': 106535,\n",
       " 'responsibility': 92411,\n",
       " 'democratic': 32651,\n",
       " 'joseph': 59093,\n",
       " 'crowley': 29970,\n",
       " 'require': 92181,\n",
       " 'united': 113428,\n",
       " 'states': 103377,\n",
       " 'borrow': 19811,\n",
       " 'paid': 81597,\n",
       " 'future': 44844,\n",
       " 'generations': 45900,\n",
       " 'finance': 42415,\n",
       " 'corporations': 28907,\n",
       " 'rich': 93053,\n",
       " 'fiscally': 42622,\n",
       " 'responsible': 92413,\n",
       " 'bills': 18210,\n",
       " 've': 115066,\n",
       " 'seen': 97652,\n",
       " 'passed': 82350,\n",
       " 'history': 51849,\n",
       " 'representatives': 92055,\n",
       " 'think': 108436,\n",
       " 'paying': 82708,\n",
       " 'come': 27212,\n",
       " 'insist': 55808,\n",
       " 'package': 81482,\n",
       " 'biggest': 18066,\n",
       " '30': 5240,\n",
       " 'boost': 19683,\n",
       " 'economy': 37230,\n",
       " 'job': 58733,\n",
       " 'growth': 48368,\n",
       " 'speaker': 102297,\n",
       " 'paul': 82592,\n",
       " 'ryan': 95039,\n",
       " 'supported': 105333,\n",
       " 'recently': 90501,\n",
       " 'went': 117735,\n",
       " 'making': 68052,\n",
       " 'clear': 26148,\n",
       " 'radio': 89193,\n",
       " 'interview': 56268,\n",
       " 'welfare': 117665,\n",
       " 'entitlement': 38895,\n",
       " 'reform': 91045,\n",
       " 'calls': 22455,\n",
       " 'priority': 86820,\n",
       " 'parlance': 82151,\n",
       " 'mean': 70344,\n",
       " 'food': 43393,\n",
       " 'stamps': 103191,\n",
       " 'housing': 52777,\n",
       " 'assistance': 14056,\n",
       " 'medicare': 70496,\n",
       " 'medicaid': 70493,\n",
       " 'insurance': 55961,\n",
       " 'elderly': 37775,\n",
       " 'poor': 85542,\n",
       " 'disabled': 34186,\n",
       " 'created': 29603,\n",
       " 'assist': 14054,\n",
       " 'needy': 75968,\n",
       " 'seized': 97737,\n",
       " 'early': 36965,\n",
       " 'remarks': 91637,\n",
       " 'showed': 99509,\n",
       " 'try': 111289,\n",
       " 'seeking': 97643,\n",
       " 'social': 101507,\n",
       " 'goals': 47052,\n",
       " 'seat': 97467,\n",
       " 'senate': 97885,\n",
       " 'votes': 116256,\n",
       " 'needed': 75954,\n",
       " 'approve': 12992,\n",
       " 'prevent': 86658,\n",
       " 'shutdown': 99676,\n",
       " 'use': 114319,\n",
       " 'leverage': 65050,\n",
       " 'narrowly': 75422,\n",
       " 'defend': 32181,\n",
       " 'tackling': 106286,\n",
       " 'issue': 57020,\n",
       " 'dreamers': 36004,\n",
       " 'brought': 21007,\n",
       " 'illegally': 54191,\n",
       " 'country': 29229,\n",
       " 'children': 25123,\n",
       " 'september': 98072,\n",
       " 'march': 68697,\n",
       " 'expiration': 40405,\n",
       " 'date': 31377,\n",
       " 'deferred': 32212,\n",
       " 'action': 9200,\n",
       " 'childhood': 25113,\n",
       " 'arrivals': 13578,\n",
       " 'daca': 30801,\n",
       " 'protects': 87384,\n",
       " 'young': 120910,\n",
       " 'immigrants': 54403,\n",
       " 'deportation': 32951,\n",
       " 'provides': 87462,\n",
       " 'work': 119207,\n",
       " 'permits': 83438,\n",
       " 'recent': 90500,\n",
       " 'twitter': 111855,\n",
       " 'messages': 71144,\n",
       " 'wants': 116885,\n",
       " 'funding': 44737,\n",
       " 'proposed': 87281,\n",
       " 'mexican': 71282,\n",
       " 'border': 19733,\n",
       " 'wall': 116761,\n",
       " 'law': 64188,\n",
       " 'changes': 24450,\n",
       " 'exchange': 40130,\n",
       " 'agreeing': 10135,\n",
       " 'help': 50970,\n",
       " 'debbie': 31797,\n",
       " 'dingell': 34048,\n",
       " 'told': 109498,\n",
       " 'did': 33788,\n",
       " 'favor': 41532,\n",
       " 'linking': 65702,\n",
       " 'objectives': 78934,\n",
       " 'clean': 26131,\n",
       " 'aides': 10297,\n",
       " 'meet': 70565,\n",
       " 'leaders': 64380,\n",
       " 'discuss': 34383,\n",
       " 'followed': 43348,\n",
       " 'weekend': 117511,\n",
       " 'strategy': 104224,\n",
       " 'sessions': 98229,\n",
       " 'jan': 57673,\n",
       " 'white': 118107,\n",
       " 'scheduled': 96693,\n",
       " 'florida': 43107,\n",
       " 'governor': 47576,\n",
       " 'rick': 93088,\n",
       " 'scott': 97084,\n",
       " 'emergency': 38233,\n",
       " 'aid': 10286,\n",
       " '81': 7404,\n",
       " 'billion': 18183,\n",
       " 'hurricanes': 53273,\n",
       " 'texas': 107825,\n",
       " 'puerto': 87766,\n",
       " 'rico': 93117,\n",
       " 'wildfires': 118384,\n",
       " 'california': 22376,\n",
       " 'far': 41253,\n",
       " 'exceeded': 40103,\n",
       " '44': 5783,\n",
       " 'requested': 92174,\n",
       " 'politicsnews': 85335,\n",
       " 'accept': 8941,\n",
       " 'transgender': 110287,\n",
       " 'recruits': 90713,\n",
       " 'monday': 73103,\n",
       " 'pentagon': 83213,\n",
       " 'allowed': 11160,\n",
       " 'time': 108967,\n",
       " 'enlist': 38751,\n",
       " 'starting': 103320,\n",
       " 'ordered': 80236,\n",
       " 'courts': 29306,\n",
       " 'friday': 44338,\n",
       " 'decided': 31925,\n",
       " 'appeal': 12858,\n",
       " 'rulings': 94771,\n",
       " 'blocked': 18904,\n",
       " 'ban': 15804,\n",
       " 'appeals': 12861,\n",
       " 'virginia': 115841,\n",
       " 'week': 117508,\n",
       " 'rejected': 91452,\n",
       " 'request': 92173,\n",
       " 'hold': 52156,\n",
       " 'orders': 80240,\n",
       " 'lower': 66723,\n",
       " 'court': 29285,\n",
       " 'judges': 59354,\n",
       " 'requiring': 92186,\n",
       " 'accepting': 8946,\n",
       " 'justice': 59578,\n",
       " 'department': 32873,\n",
       " 'official': 79339,\n",
       " 'challenge': 24365,\n",
       " 'announced': 12378,\n",
       " 'releasing': 91535,\n",
       " 'independent': 55059,\n",
       " 'study': 104491,\n",
       " 'coming': 27282,\n",
       " 'weeks': 117524,\n",
       " 'litigate': 65868,\n",
       " 'interim': 56127,\n",
       " 'occurs': 79111,\n",
       " 'wait': 116666,\n",
       " 'dod': 35183,\n",
       " 'continue': 28450,\n",
       " 'lawful': 64203,\n",
       " 'authority': 14655,\n",
       " 'district': 34815,\n",
       " 'meantime': 70366,\n",
       " 'condition': 27845,\n",
       " 'anonymity': 12429,\n",
       " 'panel': 81838,\n",
       " 'senior': 97937,\n",
       " 'officials': 79344,\n",
       " 'implement': 54580,\n",
       " 'directive': 34146,\n",
       " 'prohibit': 87103,\n",
       " 'individuals': 55166,\n",
       " 'serving': 98209,\n",
       " 'feb': 41729,\n",
       " '21': 4264,\n",
       " 'submit': 104679,\n",
       " 'plan': 84686,\n",
       " 'lawyers': 64250,\n",
       " 'representing': 92057,\n",
       " 'currently': 30439,\n",
       " 'service': 98193,\n",
       " 'members': 70807,\n",
       " 'aspiring': 13934,\n",
       " 'majority': 67991,\n",
       " 'supreme': 105372,\n",
       " 'hoping': 52522,\n",
       " 'happen': 49841,\n",
       " 'spokeswoman': 102642,\n",
       " 'heather': 50672,\n",
       " 'babb': 15223,\n",
       " 'statement': 103369,\n",
       " 'mandated': 68344,\n",
       " 'order': 80234,\n",
       " 'prepared': 86433,\n",
       " 'accessing': 8953,\n",
       " 'applicants': 12919,\n",
       " 'accession': 8954,\n",
       " 'standards': 103211,\n",
       " 'jennifer': 58197,\n",
       " 'levi': 65061,\n",
       " 'lawyer': 64244,\n",
       " 'gay': 45622,\n",
       " 'lesbian': 64914,\n",
       " 'advocacy': 9701,\n",
       " 'group': 48327,\n",
       " 'glad': 46733,\n",
       " 'decision': 31943,\n",
       " 'great': 47978,\n",
       " 'news': 76411,\n",
       " 'means': 70364,\n",
       " 'justify': 59590,\n",
       " 'good': 47296,\n",
       " 'american': 11663,\n",
       " 'civil': 25884,\n",
       " 'liberties': 65292,\n",
       " 'union': 113388,\n",
       " 'represent': 92048,\n",
       " 'plaintiffs': 84676,\n",
       " 'lawsuits': 64243,\n",
       " 'filed': 42325,\n",
       " 'appealed': 12859,\n",
       " 'supporters': 105337,\n",
       " 'july': 59452,\n",
       " 'reversing': 92757,\n",
       " 'barack': 16009,\n",
       " 'obama': 78834,\n",
       " 'burdened': 21592,\n",
       " 'tremendous': 110550,\n",
       " 'medical': 70494,\n",
       " 'costs': 29089,\n",
       " 'disruption': 34684,\n",
       " 'entail': 38839,\n",
       " 'baltimore': 15764,\n",
       " 'seattle': 97476,\n",
       " 'riverside': 93485,\n",
       " 'issued': 57021,\n",
       " 'blocking': 18908,\n",
       " 'legal': 64615,\n",
       " 'challenges': 24369,\n",
       " 'proceed': 86913,\n",
       " 'violate': 115793,\n",
       " 'right': 93215,\n",
       " 'constitution': 28295,\n",
       " 'equal': 39095,\n",
       " 'dec': 31854,\n",
       " 'guidelines': 48653,\n",
       " 'recruitment': 90711,\n",
       " 'personnel': 83546,\n",
       " 'memo': 70825,\n",
       " 'outlined': 80802,\n",
       " 'requirements': 92184,\n",
       " 'specified': 102339,\n",
       " 'sex': 98338,\n",
       " 'identified': 53829,\n",
       " 'undergarments': 112919,\n",
       " 'wear': 117401,\n",
       " 'previously': 86676,\n",
       " 'papers': 81952,\n",
       " 'armed': 13460,\n",
       " 'forces': 43486,\n",
       " 'train': 110168,\n",
       " 'thousands': 108582,\n",
       " 'process': 86918,\n",
       " 'medically': 70495,\n",
       " 'fit': 42666,\n",
       " 'set': 98234,\n",
       " 'deadline': 31683,\n",
       " '2017': 2866,\n",
       " 'secretary': 97540,\n",
       " 'james': 57620,\n",
       " 'mattis': 69606,\n",
       " 'postponed': 85835,\n",
       " 'indefinitely': 55047,\n",
       " 'taken': 106457,\n",
       " 'steps': 103680,\n",
       " 'aimed': 10329,\n",
       " 'rolling': 93981,\n",
       " 'rights': 93233,\n",
       " 'october': 79167,\n",
       " 'banning': 15951,\n",
       " 'gender': 45867,\n",
       " 'based': 16344,\n",
       " 'workplace': 119237,\n",
       " 'discrimination': 34376,\n",
       " 'does': 35212,\n",
       " 'protect': 87367,\n",
       " 'employees': 38385,\n",
       " 'era': 39158,\n",
       " 'position': 85723,\n",
       " 'february': 41734,\n",
       " 'rescinded': 92206,\n",
       " 'guidance': 48646,\n",
       " 'schools': 96875,\n",
       " 'allow': 11156,\n",
       " 'students': 104476,\n",
       " 'restroom': 92481,\n",
       " 'corresponds': 28961,\n",
       " 'identity': 53837,\n",
       " 'senator': 97890,\n",
       " 'let': 64958,\n",
       " 'mr': 73937,\n",
       " 'mueller': 74196,\n",
       " 'special': 102317,\n",
       " 'counsel': 29145,\n",
       " 'investigation': 56457,\n",
       " 'links': 65706,\n",
       " 'russia': 94902,\n",
       " '2016': 2032,\n",
       " 'campaign': 22564,\n",
       " 'interference': 56120,\n",
       " 'despite': 33243,\n",
       " 'allies': 11123,\n",
       " 'shut': 99675,\n",
       " 'prominent': 87163,\n",
       " 'lindsey': 65645,\n",
       " 'graham': 47749,\n",
       " 'serves': 98192,\n",
       " 'judiciary': 59367,\n",
       " 'committees': 27394,\n",
       " 'robert': 93682,\n",
       " 'needs': 75967,\n",
       " 'carry': 23241,\n",
       " 'political': 85271,\n",
       " 'forward': 43743,\n",
       " 'conducted': 27875,\n",
       " 'influence': 55396,\n",
       " 'guy': 48948,\n",
       " 'question': 88757,\n",
       " 'interfered': 56119,\n",
       " 'ordinated': 80250,\n",
       " 'effort': 37493,\n",
       " 'loomed': 66460,\n",
       " 'took': 109689,\n",
       " 'office': 79327,\n",
       " 'shows': 99531,\n",
       " 'sign': 99917,\n",
       " 'receding': 90489,\n",
       " 'prepares': 86436,\n",
       " 'second': 97520,\n",
       " 'year': 120491,\n",
       " 'power': 85982,\n",
       " 'intensified': 56035,\n",
       " 'rhetoric': 92953,\n",
       " 'accusing': 9063,\n",
       " 'team': 107178,\n",
       " 'bias': 17979,\n",
       " 'undercut': 112896,\n",
       " 'new': 76367,\n",
       " 'york': 120858,\n",
       " 'times': 108996,\n",
       " 'fair': 40995,\n",
       " 'role': 93959,\n",
       " 'possible': 85755,\n",
       " 'focus': 43285,\n",
       " 'multiple': 74384,\n",
       " 'inquiries': 55706,\n",
       " 'investigating': 56456,\n",
       " 'earlier': 36961,\n",
       " 'probe': 86893,\n",
       " 'launched': 64084,\n",
       " 'bureau': 21602,\n",
       " 'fbi': 41613,\n",
       " 'convicted': 28600,\n",
       " 'indicted': 55112,\n",
       " 'deny': 32853,\n",
       " 'collusion': 27052,\n",
       " 'kremlin': 62622,\n",
       " 'denied': 32758,\n",
       " 'meddling': 70428,\n",
       " 'examination': 40054,\n",
       " 'dossier': 35626,\n",
       " 'compiled': 27557,\n",
       " 'british': 20825,\n",
       " 'spy': 102831,\n",
       " 'christopher': 25506,\n",
       " 'steele': 103520,\n",
       " 'prompted': 87185,\n",
       " 'inquiry': 55708,\n",
       " 'saturday': 96263,\n",
       " 'reported': 92006,\n",
       " 'triggered': 110712,\n",
       " 'tip': 109167,\n",
       " 'foreign': 43527,\n",
       " 'adviser': 9689,\n",
       " 'george': 46024,\n",
       " 'papadopoulos': 81931,\n",
       " 'australian': 14628,\n",
       " 'diplomat': 34111,\n",
       " 'damaging': 30992,\n",
       " 'information': 55422,\n",
       " 'rival': 93459,\n",
       " 'hillary': 51588,\n",
       " 'clinton': 26315,\n",
       " 'somebody': 101791,\n",
       " 'look': 66441,\n",
       " 'used': 114321,\n",
       " 'bothers': 19888,\n",
       " 'greatly': 47984,\n",
       " 'matter': 69571,\n",
       " 'fact': 40882,\n",
       " 'hurt': 53283,\n",
       " 'ignored': 54016,\n",
       " 'helped': 50971,\n",
       " 'nyt': 78699,\n",
       " 'dirt': 34176,\n",
       " 'presidential': 86526,\n",
       " 'candidate': 22664,\n",
       " 'conversation': 28576,\n",
       " 'alexander': 10850,\n",
       " 'downer': 35747,\n",
       " 'london': 66381,\n",
       " 'driving': 36121,\n",
       " 'factor': 40898,\n",
       " 'open': 79988,\n",
       " 'counter': 29163,\n",
       " 'intelligence': 56010,\n",
       " 'moscow': 73602,\n",
       " 'contacts': 28372,\n",
       " 'months': 73299,\n",
       " 'meeting': 70566,\n",
       " 'came': 22520,\n",
       " 'counterparts': 29194,\n",
       " 'leaked': 64413,\n",
       " 'emails': 38119,\n",
       " 'began': 17040,\n",
       " 'appearing': 12867,\n",
       " 'online': 79871,\n",
       " 'according': 9002,\n",
       " 'newspaper': 76539,\n",
       " 'cited': 25837,\n",
       " 'current': 30438,\n",
       " 'australians': 14629,\n",
       " 'propelled': 87244,\n",
       " 'friendly': 44370,\n",
       " 'governments': 47573,\n",
       " 'including': 54922,\n",
       " 'dutch': 36650,\n",
       " 'chicago': 25033,\n",
       " 'international': 56167,\n",
       " 'energy': 38629,\n",
       " 'pleaded': 84831,\n",
       " 'guilty': 48686,\n",
       " 'oct': 79159,\n",
       " 'lying': 67234,\n",
       " 'agents': 10029,\n",
       " 'claimed': 25969,\n",
       " 'ties': 108854,\n",
       " 'russian': 94913,\n",
       " 'criminal': 29748,\n",
       " 'charge': 24547,\n",
       " 'alleging': 11072,\n",
       " 'played': 84787,\n",
       " 'aide': 10292,\n",
       " 'extremely': 40618,\n",
       " 'limited': 65588,\n",
       " 'actions': 9205,\n",
       " 'egyptian': 37576,\n",
       " 'abdel': 8472,\n",
       " 'fattah': 41479,\n",
       " 'al': 10590,\n",
       " 'sisi': 100329,\n",
       " 'edited': 37336,\n",
       " 'outline': 80801,\n",
       " 'major': 67985,\n",
       " 'speech': 102378,\n",
       " 'april': 13009,\n",
       " 'led': 64527,\n",
       " 'hung': 53207,\n",
       " 'ago': 10111,\n",
       " 'accused': 9059,\n",
       " 'biased': 17981,\n",
       " 'immediately': 54387,\n",
       " 'respond': 92399,\n",
       " 'requests': 92178,\n",
       " 'comment': 27337,\n",
       " 'declined': 31979,\n",
       " 'attorney': 14431,\n",
       " 'ty': 112057,\n",
       " 'cobb': 26718,\n",
       " 'report': 92002,\n",
       " 'respect': 92379,\n",
       " 'commenting': 27347,\n",
       " 'matters': 69576,\n",
       " 'charged': 24549,\n",
       " 'associates': 14070,\n",
       " 'interfering': 56122,\n",
       " 'postal': 85765,\n",
       " 'amazon': 11548,\n",
       " 'shipments': 99206,\n",
       " 'ship': 99195,\n",
       " 'packages': 81484,\n",
       " 'amzn': 11909,\n",
       " 'picking': 84151,\n",
       " 'retail': 92526,\n",
       " 'giant': 46414,\n",
       " 'criticized': 29833,\n",
       " 'past': 82380,\n",
       " 'post': 85761,\n",
       " 'losing': 66581,\n",
       " 'billions': 18190,\n",
       " 'dollars': 35304,\n",
       " 'charging': 24557,\n",
       " 'little': 65889,\n",
       " 'deliver': 32494,\n",
       " 'richer': 93066,\n",
       " 'dumber': 36457,\n",
       " 'poorer': 85543,\n",
       " 'wrote': 119528,\n",
       " 'tweet': 111779,\n",
       " 'fresh': 44293,\n",
       " 'attention': 14401,\n",
       " 'fragile': 43947,\n",
       " 'finances': 42419,\n",
       " 'tens': 107583,\n",
       " 'millions': 71880,\n",
       " 'parcels': 82062,\n",
       " 'just': 59565,\n",
       " 'shipped': 99209,\n",
       " 'holiday': 52190,\n",
       " 'season': 97456,\n",
       " 'runs': 94835,\n",
       " 'loss': 66583,\n",
       " 'agency': 10016,\n",
       " 'receive': 90493,\n",
       " 'operating': 80017,\n",
       " 'expenses': 40384,\n",
       " 'website': 117464,\n",
       " 'delivery': 32503,\n",
       " 'increasingly': 54991,\n",
       " 'important': 54616,\n",
       " 'business': 21772,\n",
       " 'internet': 56181,\n",
       " 'decline': 31978,\n",
       " 'class': 26058,\n",
       " 'letters': 64995,\n",
       " 'determine': 33352,\n",
       " 'rates': 89839,\n",
       " 'regulatory': 91255,\n",
       " 'commission': 27375,\n",
       " 'commissioners': 27378,\n",
       " 'selected': 97763,\n",
       " 'parties': 82268,\n",
       " 'raised': 89406,\n",
       " 'prices': 86703,\n",
       " 'founded': 43788,\n",
       " 'jeff': 58099,\n",
       " 'bezos': 17872,\n",
       " 'remains': 91624,\n",
       " 'chief': 25076,\n",
       " 'executive': 40203,\n",
       " 'officer': 79333,\n",
       " 'company': 27489,\n",
       " 'richest': 93071,\n",
       " 'person': 83523,\n",
       " 'world': 119254,\n",
       " 'bloomberg': 18977,\n",
       " 'owns': 81287,\n",
       " 'repeatedly': 91924,\n",
       " 'railed': 89362,\n",
       " 'criticisms': 29831,\n",
       " 'media': 70444,\n",
       " 'tweets': 111794,\n",
       " 'fabricated': 40792,\n",
       " 'stories': 104084,\n",
       " 'sales': 95585,\n",
       " 'true': 110964,\n",
       " 'hurts': 53290,\n",
       " 'retailers': 92529,\n",
       " 'pattern': 82567,\n",
       " 'businessman': 21782,\n",
       " 'reality': 90213,\n",
       " 'television': 107428,\n",
       " 'host': 52664,\n",
       " 'periodically': 83374,\n",
       " 'turning': 111642,\n",
       " 'ire': 56683,\n",
       " 'companies': 27485,\n",
       " 'daniel': 31107,\n",
       " 'ives': 57202,\n",
       " 'analyst': 11948,\n",
       " 'gbh': 45679,\n",
       " 'insights': 55793,\n",
       " 'warning': 116986,\n",
       " 'concerned': 27754,\n",
       " 'price': 86696,\n",
       " 'hikes': 51557,\n",
       " 'risk': 93414,\n",
       " 'clearly': 26160,\n",
       " 'aware': 14898,\n",
       " 'building': 21384,\n",
       " 'distribution': 34810,\n",
       " 'aggressively': 10063,\n",
       " 'shown': 99523,\n",
       " 'shifting': 99114,\n",
       " 'testing': 107781,\n",
       " 'drones': 36149,\n",
       " 'deliveries': 32500,\n",
       " '2015': 1897,\n",
       " 'spent': 102437,\n",
       " 'shipping': 99213,\n",
       " '46': 5826,\n",
       " 'total': 109866,\n",
       " 'shares': 98736,\n",
       " '86': 7574,\n",
       " '175': 1213,\n",
       " '90': 7804,\n",
       " 'afternoon': 9957,\n",
       " 'overall': 80945,\n",
       " 'stock': 103929,\n",
       " 'slightly': 100870,\n",
       " 'satish': 96248,\n",
       " 'jindel': 58581,\n",
       " 'shipmatrix': 99204,\n",
       " 'analyzes': 11956,\n",
       " 'data': 31366,\n",
       " 'disputed': 34646,\n",
       " 'idea': 53804,\n",
       " 'charges': 24552,\n",
       " 'parcel': 82061,\n",
       " 'ups': 114105,\n",
       " 'fedex': 41771,\n",
       " 'corp': 28898,\n",
       " 'fdx': 41674,\n",
       " 'players': 84794,\n",
       " 'customers': 30522,\n",
       " 'comparable': 27495,\n",
       " 'services': 98203,\n",
       " 'delivers': 32502,\n",
       " '62': 6558,\n",
       " 'million': 71874,\n",
       " 'day': 31530,\n",
       " 'peak': 82909,\n",
       " 'end': 38538,\n",
       " 'agreement': 10136,\n",
       " 'mail': 67851,\n",
       " 'carriers': 23223,\n",
       " 'leg': 64611,\n",
       " 'journeys': 59178,\n",
       " 'offices': 79338,\n",
       " 'doorsteps': 35551,\n",
       " 'carrier': 23221,\n",
       " 'tapped': 106764,\n",
       " 'debate': 31781,\n",
       " 'pricing': 86712,\n",
       " 'kept': 60940,\n",
       " 'pace': 81457,\n",
       " 'rise': 93398,\n",
       " 'commerce': 27350,\n",
       " 'flooded': 43067,\n",
       " 'private': 86845,\n",
       " 'like': 65515,\n",
       " 'long': 66398,\n",
       " 'unfairly': 113187,\n",
       " 'undercuts': 112897,\n",
       " 'steve': 103719,\n",
       " 'gaut': 45594,\n",
       " 'spokesman': 102634,\n",
       " 'noted': 78020,\n",
       " 'values': 114812,\n",
       " 'productive': 86972,\n",
       " 'relationship': 91496,\n",
       " 'concerns': 27758,\n",
       " 'methods': 71230,\n",
       " 'covering': 29335,\n",
       " 'available': 14749,\n",
       " 'annual': 12394,\n",
       " 'lost': 66586,\n",
       " '74': 7038,\n",
       " 'ballooned': 15726,\n",
       " '61': 6533,\n",
       " 'revenue': 92733,\n",
       " 'marketing': 68968,\n",
       " 'periodicals': 83375,\n",
       " 'flat': 42854,\n",
       " 'declining': 31981,\n",
       " '2014': 1880,\n",
       " '19': 1380,\n",
       " 'ended': 38556,\n",
       " 'sept': 98070,\n",
       " 'temporary': 107498,\n",
       " 'surcharge': 105387,\n",
       " 'expired': 40408,\n",
       " 'accountability': 9014,\n",
       " 'facing': 40875,\n",
       " 'growing': 48359,\n",
       " 'particularly': 82260,\n",
       " '73': 7005,\n",
       " 'unfunded': 113254,\n",
       " 'pension': 83206,\n",
       " 'benefits': 17379,\n",
       " 'liabilities': 65204,\n",
       " 'plans': 84711,\n",
       " 'cut': 30530,\n",
       " 'cover': 29327,\n",
       " 'attributable': 14443,\n",
       " 'allocates': 11143,\n",
       " '28': 4570,\n",
       " 'prepare': 86432,\n",
       " 'talks': 106547,\n",
       " 'west': 117785,\n",
       " 'palm': 81729,\n",
       " 'beach': 16781,\n",
       " 'fla': 42756,\n",
       " 'kick': 61384,\n",
       " 'wrapped': 119412,\n",
       " 'flurry': 43206,\n",
       " 'legislative': 64665,\n",
       " 'activity': 9227,\n",
       " 'comes': 27238,\n",
       " 'stage': 103093,\n",
       " 'midterm': 71584,\n",
       " 'elections': 37806,\n",
       " 'eager': 36925,\n",
       " 'maintain': 67941,\n",
       " 'openings': 79996,\n",
       " 'wrest': 119451,\n",
       " 'seats': 97475,\n",
       " 'away': 14903,\n",
       " 'mick': 71482,\n",
       " 'mulvaney': 74413,\n",
       " 'affairs': 9808,\n",
       " 'director': 34151,\n",
       " 'marc': 68678,\n",
       " 'short': 99415,\n",
       " 'leader': 64378,\n",
       " 'mitch': 72500,\n",
       " 'mcconnell': 70010,\n",
       " 'chuck': 25558,\n",
       " 'schumer': 96934,\n",
       " 'nancy': 75275,\n",
       " 'pelosi': 83084,\n",
       " 'camp': 22561,\n",
       " 'david': 31432,\n",
       " 'retreat': 92615,\n",
       " 'maryland': 69234,\n",
       " 'returns': 92660,\n",
       " 'term': 107642,\n",
       " 'taking': 106478,\n",
       " 'christmas': 25491,\n",
       " 'break': 20420,\n",
       " 'various': 114958,\n",
       " 'domestic': 35342,\n",
       " 'agenda': 10018,\n",
       " 'disaster': 34238,\n",
       " 'hit': 51857,\n",
       " 'asked': 13869,\n",
       " 'smaller': 101050,\n",
       " 'figure': 42305,\n",
       " 'deadlines': 31685,\n",
       " 'loom': 66459,\n",
       " 'soon': 101887,\n",
       " 'expire': 40407,\n",
       " 'protections': 87377,\n",
       " 'adult': 9618,\n",
       " 'entered': 38854,\n",
       " 'known': 62120,\n",
       " 'protected': 87368,\n",
       " 'provided': 87456,\n",
       " 'effective': 37466,\n",
       " 'giving': 46686,\n",
       " 'devise': 33500,\n",
       " 'solution': 101757,\n",
       " 'number': 78412,\n",
       " 'large': 63882,\n",
       " 'pushed': 88049,\n",
       " 'approving': 12995,\n",
       " 'broader': 20874,\n",
       " 'tougher': 109924,\n",
       " 'security': 97586,\n",
       " 'oppose': 80081,\n",
       " 'promised': 87168,\n",
       " 'fully': 44680,\n",
       " 'understand': 113010,\n",
       " 'desperately': 33233,\n",
       " 'southern': 102101,\n",
       " 'horrible': 52581,\n",
       " 'chain': 24312,\n",
       " 'migration': 71639,\n",
       " 'ridiculous': 93153,\n",
       " 'lottery': 66600,\n",
       " 'rules': 94761,\n",
       " 'extended': 40527,\n",
       " 'families': 41184,\n",
       " 'live': 65919,\n",
       " 'flake': 42792,\n",
       " 'frequent': 44285,\n",
       " 'critic': 29822,\n",
       " 'fix': 42704,\n",
       " 'beefs': 16996,\n",
       " 'stops': 104052,\n",
       " 'addresses': 9365,\n",
       " 'unfairness': 113188,\n",
       " 'diversity': 34886,\n",
       " 'potus': 85933,\n",
       " 'kids': 61432,\n",
       " 'promise': 87167,\n",
       " 'ceiling': 23905,\n",
       " 'avoid': 14842,\n",
       " 'default': 32148,\n",
       " 'treasury': 110495,\n",
       " 'exhaust': 40248,\n",
       " 'borrowing': 19816,\n",
       " 'options': 80143,\n",
       " 'dry': 36245,\n",
       " 'cash': 23355,\n",
       " 'nonpartisan': 77747,\n",
       " 'won': 119091,\n",
       " 'victory': 115550,\n",
       " 'passage': 82339,\n",
       " 'says': 96414,\n",
       " 'timeline': 108983,\n",
       " 'unclear': 112785,\n",
       " 'thursday': 108740,\n",
       " 'believes': 17214,\n",
       " 'fairly': 41015,\n",
       " 'treated': 110499,\n",
       " 'know': 62108,\n",
       " 'appeared': 12866,\n",
       " 'shrug': 99594,\n",
       " 'agencies': 10014,\n",
       " 'conclusion': 27785,\n",
       " 'tried': 110704,\n",
       " 'defeat': 32157,\n",
       " 'democrat': 32650,\n",
       " 'hacking': 49204,\n",
       " 'embarrassing': 38161,\n",
       " 'disseminating': 34708,\n",
       " 'propaganda': 87222,\n",
       " ...}"
      ]
     },
     "execution_count": 22,
     "metadata": {},
     "output_type": "execute_result"
    }
   ],
   "source": [
    "cv.vocabulary_"
   ]
  },
  {
   "cell_type": "markdown",
   "id": "76cfe174",
   "metadata": {},
   "source": [
    "###### Feature Selection"
   ]
  },
  {
   "cell_type": "code",
   "execution_count": 23,
   "id": "411ef36a",
   "metadata": {},
   "outputs": [],
   "source": [
    "X=words"
   ]
  },
  {
   "cell_type": "code",
   "execution_count": 24,
   "id": "77cbcbc0",
   "metadata": {},
   "outputs": [],
   "source": [
    "y=data['Prediction'].values"
   ]
  },
  {
   "cell_type": "markdown",
   "id": "7f72f3ae",
   "metadata": {},
   "source": [
    "###### Modelling"
   ]
  },
  {
   "cell_type": "code",
   "execution_count": 25,
   "id": "0564de00",
   "metadata": {},
   "outputs": [],
   "source": [
    "from sklearn.model_selection import train_test_split"
   ]
  },
  {
   "cell_type": "markdown",
   "id": "504d62e9",
   "metadata": {},
   "source": [
    "We will create Validation set alongwith the Train, Test set, which we can use for finding the best model and then after hyperparameter tuning finally we can apply the best suited model on the test set which will be completely unknown to the model."
   ]
  },
  {
   "cell_type": "code",
   "execution_count": 26,
   "id": "999c8f91",
   "metadata": {},
   "outputs": [],
   "source": [
    "X_train, X_, y_train, y_ = train_test_split(X, y, test_size=0.30, random_state=101)"
   ]
  },
  {
   "cell_type": "code",
   "execution_count": 27,
   "id": "e5903db6",
   "metadata": {},
   "outputs": [],
   "source": [
    "X_val, X_test, y_val, y_test = train_test_split(X_, y_, test_size=0.15, random_state=101)"
   ]
  },
  {
   "cell_type": "code",
   "execution_count": 28,
   "id": "2186aeab",
   "metadata": {},
   "outputs": [],
   "source": [
    "tfidf=TfidfTransformer()"
   ]
  },
  {
   "cell_type": "code",
   "execution_count": 29,
   "id": "a56b2a22",
   "metadata": {},
   "outputs": [],
   "source": [
    "tfidf_X_train=tfidf.fit_transform(X_train)"
   ]
  },
  {
   "cell_type": "code",
   "execution_count": 30,
   "id": "6bdd7252",
   "metadata": {},
   "outputs": [],
   "source": [
    "tfidf_X_val=tfidf.fit_transform(X_val)"
   ]
  },
  {
   "cell_type": "code",
   "execution_count": 31,
   "id": "a7f6b9d5",
   "metadata": {},
   "outputs": [],
   "source": [
    "tfidf_X_test=tfidf.transform(X_test)"
   ]
  },
  {
   "cell_type": "code",
   "execution_count": 32,
   "id": "2d1dcae9",
   "metadata": {},
   "outputs": [],
   "source": [
    "from sklearn.naive_bayes import MultinomialNB\n",
    "from sklearn.linear_model import LogisticRegression\n",
    "from sklearn.ensemble import RandomForestClassifier"
   ]
  },
  {
   "cell_type": "code",
   "execution_count": 33,
   "id": "230037c3",
   "metadata": {
    "scrolled": true
   },
   "outputs": [
    {
     "data": {
      "text/plain": [
       "LogisticRegression()"
      ]
     },
     "execution_count": 33,
     "metadata": {},
     "output_type": "execute_result"
    }
   ],
   "source": [
    "lr_model=LogisticRegression()\n",
    "lr_model.fit(tfidf_X_train,y_train)"
   ]
  },
  {
   "cell_type": "code",
   "execution_count": 34,
   "id": "e5d8ba46",
   "metadata": {},
   "outputs": [
    {
     "data": {
      "text/plain": [
       "MultinomialNB()"
      ]
     },
     "execution_count": 34,
     "metadata": {},
     "output_type": "execute_result"
    }
   ],
   "source": [
    "mnb_model=MultinomialNB()\n",
    "mnb_model.fit(tfidf_X_train,y_train)"
   ]
  },
  {
   "cell_type": "code",
   "execution_count": 35,
   "id": "b6d9cbad",
   "metadata": {},
   "outputs": [
    {
     "data": {
      "text/plain": [
       "RandomForestClassifier()"
      ]
     },
     "execution_count": 35,
     "metadata": {},
     "output_type": "execute_result"
    }
   ],
   "source": [
    "rfc_model=RandomForestClassifier()\n",
    "rfc_model.fit(tfidf_X_train,y_train)"
   ]
  },
  {
   "cell_type": "code",
   "execution_count": 36,
   "id": "6a310845",
   "metadata": {},
   "outputs": [],
   "source": [
    "from sklearn.metrics import plot_confusion_matrix,classification_report,plot_precision_recall_curve,plot_roc_curve"
   ]
  },
  {
   "cell_type": "code",
   "execution_count": 37,
   "id": "670d9e17",
   "metadata": {},
   "outputs": [],
   "source": [
    "def report(model):\n",
    "    preds = model.predict(tfidf_X_val)\n",
    "    print(classification_report(preds,y_val))\n",
    "    plot_confusion_matrix(model,tfidf_X_val,y_val)\n",
    "    plot_precision_recall_curve(model,tfidf_X_val,y_val)\n",
    "    plot_roc_curve(model,tfidf_X_val,y_val)"
   ]
  },
  {
   "cell_type": "code",
   "execution_count": 38,
   "id": "0e012361",
   "metadata": {},
   "outputs": [
    {
     "name": "stdout",
     "output_type": "stream",
     "text": [
      "LOGISTIC REGRESSION\n",
      "              precision    recall  f1-score   support\n",
      "\n",
      "         0.0       0.99      0.99      0.99      5902\n",
      "         1.0       0.99      0.99      0.99      5547\n",
      "\n",
      "    accuracy                           0.99     11449\n",
      "   macro avg       0.99      0.99      0.99     11449\n",
      "weighted avg       0.99      0.99      0.99     11449\n",
      "\n"
     ]
    },
    {
     "data": {
      "image/png": "[encoded data removed]",
      "text/plain": [
       "<Figure size 432x288 with 2 Axes>"
      ]
     },
     "metadata": {
      "needs_background": "light"
     },
     "output_type": "display_data"
    },
    {
     "data": {
      "image/png": "[encoded data removed]",
      "text/plain": [
       "<Figure size 432x288 with 1 Axes>"
      ]
     },
     "metadata": {
      "needs_background": "light"
     },
     "output_type": "display_data"
    },
    {
     "data": {
      "image/png": "[encoded data removed]",
      "text/plain": [
       "<Figure size 432x288 with 1 Axes>"
      ]
     },
     "metadata": {
      "needs_background": "light"
     },
     "output_type": "display_data"
    }
   ],
   "source": [
    "print('LOGISTIC REGRESSION')\n",
    "report(lr_model)"
   ]
  },
  {
   "cell_type": "code",
   "execution_count": 39,
   "id": "a507ee5b",
   "metadata": {},
   "outputs": [
    {
     "name": "stdout",
     "output_type": "stream",
     "text": [
      "NAIVE BAYES MODEL\n",
      "              precision    recall  f1-score   support\n",
      "\n",
      "         0.0       0.95      0.93      0.94      6025\n",
      "         1.0       0.93      0.95      0.94      5424\n",
      "\n",
      "    accuracy                           0.94     11449\n",
      "   macro avg       0.94      0.94      0.94     11449\n",
      "weighted avg       0.94      0.94      0.94     11449\n",
      "\n"
     ]
    },
    {
     "data": {
      "image/png": "[encoded data removed]",
      "text/plain": [
       "<Figure size 432x288 with 2 Axes>"
      ]
     },
     "metadata": {
      "needs_background": "light"
     },
     "output_type": "display_data"
    },
    {
     "data": {
      "image/png": "[encoded data removed]",
      "text/plain": [
       "<Figure size 432x288 with 1 Axes>"
      ]
     },
     "metadata": {
      "needs_background": "light"
     },
     "output_type": "display_data"
    },
    {
     "data": {
      "image/png": "[encoded data removed]",
      "text/plain": [
       "<Figure size 432x288 with 1 Axes>"
      ]
     },
     "metadata": {
      "needs_background": "light"
     },
     "output_type": "display_data"
    }
   ],
   "source": [
    "print('NAIVE BAYES MODEL')\n",
    "report(mnb_model)"
   ]
  },
  {
   "cell_type": "code",
   "execution_count": 40,
   "id": "7831cca2",
   "metadata": {},
   "outputs": [
    {
     "name": "stdout",
     "output_type": "stream",
     "text": [
      "RANDOM FOREST CLASSIFIER\n",
      "              precision    recall  f1-score   support\n",
      "\n",
      "         0.0       1.00      1.00      1.00      5911\n",
      "         1.0       1.00      1.00      1.00      5538\n",
      "\n",
      "    accuracy                           1.00     11449\n",
      "   macro avg       1.00      1.00      1.00     11449\n",
      "weighted avg       1.00      1.00      1.00     11449\n",
      "\n"
     ]
    },
    {
     "data": {
      "image/png": "[encoded data removed]",
      "text/plain": [
       "<Figure size 432x288 with 2 Axes>"
      ]
     },
     "metadata": {
      "needs_background": "light"
     },
     "output_type": "display_data"
    },
    {
     "data": {
      "image/png": "[encoded data removed]",
      "text/plain": [
       "<Figure size 432x288 with 1 Axes>"
      ]
     },
     "metadata": {
      "needs_background": "light"
     },
     "output_type": "display_data"
    },
    {
     "data": {
      "image/png": "[encoded data removed]",
      "text/plain": [
       "<Figure size 432x288 with 1 Axes>"
      ]
     },
     "metadata": {
      "needs_background": "light"
     },
     "output_type": "display_data"
    }
   ],
   "source": [
    "print('RANDOM FOREST CLASSIFIER')\n",
    "report(rfc_model)"
   ]
  },
  {
   "cell_type": "markdown",
   "id": "162a5f34",
   "metadata": {},
   "source": [
    "###### Note: Since the model performed well with the default parameters so I will proceed with the model as it is without hyperparameter tuning, for the final predictions."
   ]
  },
  {
   "cell_type": "code",
   "execution_count": 41,
   "id": "2fa5a7bd",
   "metadata": {},
   "outputs": [
    {
     "name": "stdout",
     "output_type": "stream",
     "text": [
      "              precision    recall  f1-score   support\n",
      "\n",
      "         0.0       1.00      0.99      1.00      1066\n",
      "         1.0       0.99      1.00      1.00       955\n",
      "\n",
      "    accuracy                           1.00      2021\n",
      "   macro avg       1.00      1.00      1.00      2021\n",
      "weighted avg       1.00      1.00      1.00      2021\n",
      "\n"
     ]
    },
    {
     "data": {
      "text/plain": [
       "<sklearn.metrics._plot.roc_curve.RocCurveDisplay at 0x1a243292970>"
      ]
     },
     "execution_count": 41,
     "metadata": {},
     "output_type": "execute_result"
    },
    {
     "data": {
      "image/png": "[encoded data removed]",
      "text/plain": [
       "<Figure size 432x288 with 2 Axes>"
      ]
     },
     "metadata": {
      "needs_background": "light"
     },
     "output_type": "display_data"
    },
    {
     "data": {
      "image/png": "[encoded data removed]",
      "text/plain": [
       "<Figure size 432x288 with 1 Axes>"
      ]
     },
     "metadata": {
      "needs_background": "light"
     },
     "output_type": "display_data"
    },
    {
     "data": {
      "image/png": "[encoded data removed]",
      "text/plain": [
       "<Figure size 432x288 with 1 Axes>"
      ]
     },
     "metadata": {
      "needs_background": "light"
     },
     "output_type": "display_data"
    }
   ],
   "source": [
    "preds = rfc_model.predict(tfidf_X_test)\n",
    "print(classification_report(preds,y_test))\n",
    "plot_confusion_matrix(rfc_model,tfidf_X_test,y_test)\n",
    "plot_precision_recall_curve(rfc_model,tfidf_X_test,y_test)\n",
    "plot_roc_curve(rfc_model,tfidf_X_test,y_test)"
   ]
  }
 ],
 "metadata": {
  "kernelspec": {
   "display_name": "Python 3",
   "language": "python",
   "name": "python3"
  },
  "language_info": {
   "codemirror_mode": {
    "name": "ipython",
    "version": 3
   },
   "file_extension": ".py",
   "mimetype": "text/x-python",
   "name": "python",
   "nbconvert_exporter": "python",
   "pygments_lexer": "ipython3",
   "version": "3.8.8"
  }
 },
 "nbformat": 4,
 "nbformat_minor": 5
}
